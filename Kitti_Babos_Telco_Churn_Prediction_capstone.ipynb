{
 "cells": [
  {
   "cell_type": "markdown",
   "id": "fa0dc00f",
   "metadata": {},
   "source": [
    "Steps of Data Preprocessing\n",
    "1. Import libraries\n",
    "2. Read data\n",
    "3. Checking for missing values\n",
    "4. Checking for categorical data\n",
    "5. Standardize the data\n",
    "6. PCA transformation\n",
    "7. Data splitting"
   ]
  },
  {
   "cell_type": "markdown",
   "id": "acec1cdf",
   "metadata": {},
   "source": [
    "1. Import libraries"
   ]
  },
  {
   "cell_type": "code",
   "execution_count": 1,
   "id": "95c4a238",
   "metadata": {},
   "outputs": [],
   "source": [
    "# main libraries\n",
    "import pandas as pd\n",
    "import numpy as np\n",
    "import time\n",
    "\n",
    "# visual libraries\n",
    "from matplotlib import pyplot as plt\n",
    "import matplotlib.ticker as mtick\n",
    "import seaborn as sns"
   ]
  },
  {
   "cell_type": "markdown",
   "id": "9728dd7f",
   "metadata": {},
   "source": [
    "2. Read data"
   ]
  },
  {
   "cell_type": "code",
   "execution_count": 2,
   "id": "f601db0e",
   "metadata": {},
   "outputs": [
    {
     "data": {
      "text/html": [
       "<div>\n",
       "<style scoped>\n",
       "    .dataframe tbody tr th:only-of-type {\n",
       "        vertical-align: middle;\n",
       "    }\n",
       "\n",
       "    .dataframe tbody tr th {\n",
       "        vertical-align: top;\n",
       "    }\n",
       "\n",
       "    .dataframe thead th {\n",
       "        text-align: right;\n",
       "    }\n",
       "</style>\n",
       "<table border=\"1\" class=\"dataframe\">\n",
       "  <thead>\n",
       "    <tr style=\"text-align: right;\">\n",
       "      <th></th>\n",
       "      <th>region</th>\n",
       "      <th>tenure</th>\n",
       "      <th>age</th>\n",
       "      <th>marital</th>\n",
       "      <th>address</th>\n",
       "      <th>income</th>\n",
       "      <th>ed</th>\n",
       "      <th>employ</th>\n",
       "      <th>retire</th>\n",
       "      <th>gender</th>\n",
       "      <th>...</th>\n",
       "      <th>confer</th>\n",
       "      <th>ebill</th>\n",
       "      <th>loglong</th>\n",
       "      <th>logtoll</th>\n",
       "      <th>logequi</th>\n",
       "      <th>logcard</th>\n",
       "      <th>logwire</th>\n",
       "      <th>lninc</th>\n",
       "      <th>custcat</th>\n",
       "      <th>churn</th>\n",
       "    </tr>\n",
       "  </thead>\n",
       "  <tbody>\n",
       "    <tr>\n",
       "      <th>0</th>\n",
       "      <td>Zone 2</td>\n",
       "      <td>13</td>\n",
       "      <td>44</td>\n",
       "      <td>Married</td>\n",
       "      <td>9</td>\n",
       "      <td>64</td>\n",
       "      <td>College degree</td>\n",
       "      <td>5</td>\n",
       "      <td>No</td>\n",
       "      <td>Male</td>\n",
       "      <td>...</td>\n",
       "      <td>No</td>\n",
       "      <td>No</td>\n",
       "      <td>1.308333</td>\n",
       "      <td>#NULL!</td>\n",
       "      <td>#NULL!</td>\n",
       "      <td>2.014903</td>\n",
       "      <td>#NULL!</td>\n",
       "      <td>4.158883</td>\n",
       "      <td>Basic service</td>\n",
       "      <td>Yes</td>\n",
       "    </tr>\n",
       "    <tr>\n",
       "      <th>1</th>\n",
       "      <td>Zone 3</td>\n",
       "      <td>11</td>\n",
       "      <td>33</td>\n",
       "      <td>Married</td>\n",
       "      <td>7</td>\n",
       "      <td>136</td>\n",
       "      <td>Post-undergraduate degree</td>\n",
       "      <td>5</td>\n",
       "      <td>No</td>\n",
       "      <td>Male</td>\n",
       "      <td>...</td>\n",
       "      <td>Yes</td>\n",
       "      <td>No</td>\n",
       "      <td>1.481605</td>\n",
       "      <td>3.032546</td>\n",
       "      <td>#NULL!</td>\n",
       "      <td>2.72458</td>\n",
       "      <td>3.575151</td>\n",
       "      <td>4.912655</td>\n",
       "      <td>Total service</td>\n",
       "      <td>Yes</td>\n",
       "    </tr>\n",
       "    <tr>\n",
       "      <th>2</th>\n",
       "      <td>Zone 3</td>\n",
       "      <td>68</td>\n",
       "      <td>52</td>\n",
       "      <td>Married</td>\n",
       "      <td>24</td>\n",
       "      <td>116</td>\n",
       "      <td>Did not complete high school</td>\n",
       "      <td>29</td>\n",
       "      <td>No</td>\n",
       "      <td>Female</td>\n",
       "      <td>...</td>\n",
       "      <td>Yes</td>\n",
       "      <td>No</td>\n",
       "      <td>2.898671</td>\n",
       "      <td>2.890372</td>\n",
       "      <td>#NULL!</td>\n",
       "      <td>3.409496</td>\n",
       "      <td>#NULL!</td>\n",
       "      <td>4.753590</td>\n",
       "      <td>Plus service</td>\n",
       "      <td>No</td>\n",
       "    </tr>\n",
       "    <tr>\n",
       "      <th>3</th>\n",
       "      <td>Zone 2</td>\n",
       "      <td>33</td>\n",
       "      <td>33</td>\n",
       "      <td>Unmarried</td>\n",
       "      <td>12</td>\n",
       "      <td>33</td>\n",
       "      <td>High school degree</td>\n",
       "      <td>0</td>\n",
       "      <td>No</td>\n",
       "      <td>Female</td>\n",
       "      <td>...</td>\n",
       "      <td>No</td>\n",
       "      <td>No</td>\n",
       "      <td>2.246015</td>\n",
       "      <td>#NULL!</td>\n",
       "      <td>#NULL!</td>\n",
       "      <td>#NULL!</td>\n",
       "      <td>#NULL!</td>\n",
       "      <td>3.496508</td>\n",
       "      <td>Basic service</td>\n",
       "      <td>Yes</td>\n",
       "    </tr>\n",
       "    <tr>\n",
       "      <th>4</th>\n",
       "      <td>Zone 2</td>\n",
       "      <td>23</td>\n",
       "      <td>30</td>\n",
       "      <td>Married</td>\n",
       "      <td>9</td>\n",
       "      <td>30</td>\n",
       "      <td>Did not complete high school</td>\n",
       "      <td>2</td>\n",
       "      <td>No</td>\n",
       "      <td>Male</td>\n",
       "      <td>...</td>\n",
       "      <td>Yes</td>\n",
       "      <td>No</td>\n",
       "      <td>1.840550</td>\n",
       "      <td>#NULL!</td>\n",
       "      <td>#NULL!</td>\n",
       "      <td>#NULL!</td>\n",
       "      <td>#NULL!</td>\n",
       "      <td>3.401197</td>\n",
       "      <td>Plus service</td>\n",
       "      <td>No</td>\n",
       "    </tr>\n",
       "  </tbody>\n",
       "</table>\n",
       "<p>5 rows × 42 columns</p>\n",
       "</div>"
      ],
      "text/plain": [
       "   region  tenure  age    marital  address  income  \\\n",
       "0  Zone 2      13   44    Married        9      64   \n",
       "1  Zone 3      11   33    Married        7     136   \n",
       "2  Zone 3      68   52    Married       24     116   \n",
       "3  Zone 2      33   33  Unmarried       12      33   \n",
       "4  Zone 2      23   30    Married        9      30   \n",
       "\n",
       "                             ed  employ retire  gender  ...  confer ebill  \\\n",
       "0                College degree       5     No    Male  ...      No    No   \n",
       "1     Post-undergraduate degree       5     No    Male  ...     Yes    No   \n",
       "2  Did not complete high school      29     No  Female  ...     Yes    No   \n",
       "3            High school degree       0     No  Female  ...      No    No   \n",
       "4  Did not complete high school       2     No    Male  ...     Yes    No   \n",
       "\n",
       "    loglong   logtoll logequi   logcard   logwire     lninc        custcat  \\\n",
       "0  1.308333    #NULL!  #NULL!  2.014903    #NULL!  4.158883  Basic service   \n",
       "1  1.481605  3.032546  #NULL!   2.72458  3.575151  4.912655  Total service   \n",
       "2  2.898671  2.890372  #NULL!  3.409496    #NULL!  4.753590   Plus service   \n",
       "3  2.246015    #NULL!  #NULL!    #NULL!    #NULL!  3.496508  Basic service   \n",
       "4  1.840550    #NULL!  #NULL!    #NULL!    #NULL!  3.401197   Plus service   \n",
       "\n",
       "   churn  \n",
       "0    Yes  \n",
       "1    Yes  \n",
       "2     No  \n",
       "3    Yes  \n",
       "4     No  \n",
       "\n",
       "[5 rows x 42 columns]"
      ]
     },
     "execution_count": 2,
     "metadata": {},
     "output_type": "execute_result"
    }
   ],
   "source": [
    "telco_cust = pd.read_excel('telco_new.xlsx')\n",
    "telco_cust.head()"
   ]
  },
  {
   "cell_type": "code",
   "execution_count": null,
   "id": "5866e7c2",
   "metadata": {},
   "outputs": [],
   "source": [
    "telco_cust.shape"
   ]
  },
  {
   "cell_type": "code",
   "execution_count": null,
   "id": "aac2e073",
   "metadata": {},
   "outputs": [],
   "source": [
    "telco_cust.info()"
   ]
  },
  {
   "cell_type": "code",
   "execution_count": null,
   "id": "946afbad",
   "metadata": {},
   "outputs": [],
   "source": [
    "telco_cust.describe(include = 'all')"
   ]
  },
  {
   "cell_type": "code",
   "execution_count": null,
   "id": "d2c031f1",
   "metadata": {},
   "outputs": [],
   "source": [
    "print(telco_cust.columns.values)"
   ]
  },
  {
   "cell_type": "code",
   "execution_count": null,
   "id": "520f9304",
   "metadata": {},
   "outputs": [],
   "source": [
    "telco_cust.dtypes"
   ]
  },
  {
   "cell_type": "markdown",
   "id": "b2214c69",
   "metadata": {},
   "source": [
    "4. Checking for categorical data"
   ]
  },
  {
   "cell_type": "markdown",
   "id": "14f5f3a1",
   "metadata": {},
   "source": [
    "Which features are categorical?"
   ]
  },
  {
   "cell_type": "markdown",
   "id": "861fe359",
   "metadata": {},
   "source": [
    "Categorical features: region, marital, ed, retire, gender, tollfree, equip, callcard, wireless, multline, voice, pager, internet, callid, callwait, forward, confer, ebil, custcat, churn"
   ]
  },
  {
   "cell_type": "markdown",
   "id": "59da9f9c",
   "metadata": {},
   "source": [
    "Which features are numerical?"
   ]
  },
  {
   "cell_type": "markdown",
   "id": "829b6aec",
   "metadata": {},
   "source": [
    "Numerical feature: tenure, age, address, income, employ, reside, longmon, tollmon, equipmon, cardmon, wiremon, longten, tollten, equipten, cardten, wireten, loglong, logtoll, logequi, logcard, logwire, lninc"
   ]
  },
  {
   "cell_type": "markdown",
   "id": "7e4f65b0",
   "metadata": {},
   "source": [
    "logtoll, logequi, logcard, logwire should be converted to numerical data type (they are object at the moment)  "
   ]
  },
  {
   "cell_type": "code",
   "execution_count": 3,
   "id": "17f62efd",
   "metadata": {},
   "outputs": [
    {
     "data": {
      "text/plain": [
       "region       object\n",
       "tenure        int64\n",
       "age           int64\n",
       "marital      object\n",
       "address       int64\n",
       "income        int64\n",
       "ed           object\n",
       "employ        int64\n",
       "retire       object\n",
       "gender       object\n",
       "reside        int64\n",
       "tollfree     object\n",
       "equip        object\n",
       "callcard     object\n",
       "wireless     object\n",
       "longmon     float64\n",
       "tollmon     float64\n",
       "equipmon    float64\n",
       "cardmon     float64\n",
       "wiremon     float64\n",
       "longten     float64\n",
       "tollten     float64\n",
       "equipten    float64\n",
       "cardten     float64\n",
       "wireten     float64\n",
       "multline     object\n",
       "voice        object\n",
       "pager        object\n",
       "internet     object\n",
       "callid       object\n",
       "callwait     object\n",
       "forward      object\n",
       "confer       object\n",
       "ebill        object\n",
       "loglong     float64\n",
       "logtoll     float64\n",
       "logequi     float64\n",
       "logcard     float64\n",
       "logwire     float64\n",
       "lninc       float64\n",
       "custcat      object\n",
       "churn        object\n",
       "dtype: object"
      ]
     },
     "execution_count": 3,
     "metadata": {},
     "output_type": "execute_result"
    }
   ],
   "source": [
    "object_to_numeric = ['logtoll', 'logequi', 'logcard', 'logwire']\n",
    "\n",
    "for item in object_to_numeric:\n",
    "    telco_cust[item] = pd.to_numeric(telco_cust[item], errors='coerce')\n",
    "    \n",
    "telco_cust.dtypes"
   ]
  },
  {
   "cell_type": "markdown",
   "id": "6130fa81",
   "metadata": {},
   "source": [
    "3. Checking for missing values"
   ]
  },
  {
   "cell_type": "code",
   "execution_count": null,
   "id": "15ee266f",
   "metadata": {},
   "outputs": [],
   "source": [
    "telco_cust.isnull().sum()"
   ]
  },
  {
   "cell_type": "markdown",
   "id": "c70bebea",
   "metadata": {},
   "source": [
    "Out of the 1000 datapoints, too many missing values on these 4 fields (logtoll, logequi, logcard, logwire), I'm going to remove these columns completely"
   ]
  },
  {
   "cell_type": "code",
   "execution_count": 4,
   "id": "099cd300",
   "metadata": {},
   "outputs": [
    {
     "data": {
      "text/plain": [
       "region      0\n",
       "tenure      0\n",
       "age         0\n",
       "marital     0\n",
       "address     0\n",
       "income      0\n",
       "ed          0\n",
       "employ      0\n",
       "retire      0\n",
       "gender      0\n",
       "reside      0\n",
       "tollfree    0\n",
       "equip       0\n",
       "callcard    0\n",
       "wireless    0\n",
       "longmon     0\n",
       "tollmon     0\n",
       "equipmon    0\n",
       "cardmon     0\n",
       "wiremon     0\n",
       "longten     0\n",
       "tollten     0\n",
       "equipten    0\n",
       "cardten     0\n",
       "wireten     0\n",
       "multline    0\n",
       "voice       0\n",
       "pager       0\n",
       "internet    0\n",
       "callid      0\n",
       "callwait    0\n",
       "forward     0\n",
       "confer      0\n",
       "ebill       0\n",
       "loglong     0\n",
       "lninc       0\n",
       "custcat     0\n",
       "churn       0\n",
       "dtype: int64"
      ]
     },
     "execution_count": 4,
     "metadata": {},
     "output_type": "execute_result"
    }
   ],
   "source": [
    "columns_to_drop = ['logtoll', 'logequi', 'logcard', 'logwire']\n",
    "    \n",
    "telco_cust.drop(columns_to_drop, axis =1, inplace = True)\n",
    "telco_cust.isnull().sum()"
   ]
  },
  {
   "cell_type": "markdown",
   "id": "a41b5130",
   "metadata": {},
   "source": [
    "# EDA"
   ]
  },
  {
   "cell_type": "markdown",
   "id": "b2c9ddb5",
   "metadata": {},
   "source": [
    "Demographics - To understand the gender, age range, patner and dependent status of the customers"
   ]
  },
  {
   "cell_type": "code",
   "execution_count": null,
   "id": "29810238",
   "metadata": {},
   "outputs": [],
   "source": [
    "# Gender Distribution\n",
    "\n",
    "colors = ['#4D3425','#E4512B']\n",
    "ax = (telco_cust['gender'].value_counts()*100.0 /len(telco_cust)).plot(kind='bar',\n",
    "                                                                           stacked = True,\n",
    "                                                                          rot = 0,\n",
    "                                                                          color = colors)\n",
    "ax.yaxis.set_major_formatter(mtick.PercentFormatter())\n",
    "ax.set_ylabel('% Customers')\n",
    "ax.set_xlabel('Gender')\n",
    "ax.set_ylabel('% Customers')\n",
    "ax.set_title('Gender Distribution')\n",
    "\n",
    "# create a list to collect the plt.patches data\n",
    "totals = []\n",
    "\n",
    "# find the values and append to list\n",
    "for i in ax.patches:\n",
    "    totals.append(i.get_width())\n",
    "\n",
    "# set individual bar lables using above list\n",
    "total = sum(totals)\n",
    "\n",
    "for i in ax.patches:\n",
    "    # get_width pulls left or right; get_y pushes up or down\n",
    "    ax.text(i.get_x()+.15, i.get_height()-3.5, \\\n",
    "            str(round((i.get_height()/total), 1))+'%',\n",
    "            fontsize=12,\n",
    "            color='white',\n",
    "           weight = 'bold')"
   ]
  },
  {
   "cell_type": "code",
   "execution_count": null,
   "id": "f34fce6b",
   "metadata": {},
   "outputs": [],
   "source": [
    "# Retirement rate : There are only 4.7% of the customers who are retired. Thus most of our customers in the data are not retired people.\n",
    "\n",
    "ax = (telco_cust['retire'].value_counts()*100.0 /len(telco_cust))\\\n",
    ".plot.pie(autopct='%.1f%%', labels = ['No', 'Yes'],figsize =(5,5), fontsize = 12 )                                                                           \n",
    "ax.yaxis.set_major_formatter(mtick.PercentFormatter())\n",
    "ax.set_ylabel('Senior Citizens',fontsize = 12)\n",
    "ax.set_title('% of Senior Citizens', fontsize = 12)"
   ]
  },
  {
   "cell_type": "code",
   "execution_count": null,
   "id": "5aaa6c88",
   "metadata": {},
   "outputs": [],
   "source": [
    "# Partner and dependent status: half of the customers are married\n",
    "\n",
    "ax = (telco_cust['marital'].value_counts()*100.0 /len(telco_cust))\\\n",
    ".plot.pie(autopct='%.1f%%', labels = ['Unmarried', 'Married'],figsize =(5,5), fontsize = 12 )                                                                           \n",
    "ax.yaxis.set_major_formatter(mtick.PercentFormatter())\n",
    "ax.set_title('% of Married people', fontsize = 12)"
   ]
  },
  {
   "cell_type": "markdown",
   "id": "c13afdb0",
   "metadata": {},
   "source": [
    "Based on the figure above: most positive effect to churn: equip_Yes, internet_Yes, ebill_Yes, callcard_No, most negative effect: tenure, loglong, equip_No, longten"
   ]
  },
  {
   "cell_type": "markdown",
   "id": "653c39f7",
   "metadata": {},
   "source": [
    "Customer Account Information: checking tenure (Number of years a customer is using the service), custcat (service category the customer is using)"
   ]
  },
  {
   "cell_type": "code",
   "execution_count": null,
   "id": "39875b89",
   "metadata": {},
   "outputs": [],
   "source": [
    "# Tenure\n",
    "\n",
    "ax = sns.distplot(telco_cust['tenure'], hist=True, kde=False, \n",
    "             bins=int(180/5), color = 'darkblue', \n",
    "             hist_kws={'edgecolor':'black'},\n",
    "             kde_kws={'linewidth': 4})\n",
    "ax.set_ylabel('# of Customers')\n",
    "ax.set_xlabel('Tenure')\n",
    "ax.set_title('# of Customers by their tenure')"
   ]
  },
  {
   "cell_type": "code",
   "execution_count": null,
   "id": "e81142fc",
   "metadata": {},
   "outputs": [],
   "source": [
    "# Custcat\n",
    "\n",
    "ax = telco_cust['custcat'].value_counts().plot(kind = 'bar',rot = 0, width = 0.3)\n",
    "ax.set_ylabel('# of Customers')\n",
    "ax.set_title('# of Customers by Service Type')"
   ]
  },
  {
   "cell_type": "code",
   "execution_count": null,
   "id": "deffc696",
   "metadata": {},
   "outputs": [],
   "source": [
    "# Checking the tenure of customers based on their service type\n",
    "\n",
    "fig, (ax1,ax2,ax3, ax4) = plt.subplots(nrows=1, ncols=4, sharey = True, figsize = (20,6))\n",
    "\n",
    "ax = sns.distplot(telco_cust[telco_cust['custcat']=='Basic service']['tenure'],\n",
    "                   hist=True, kde=False,\n",
    "                   bins=int(180/5), color = 'turquoise',\n",
    "                   hist_kws={'edgecolor':'black'},\n",
    "                   kde_kws={'linewidth': 4},\n",
    "                 ax=ax1)\n",
    "ax.set_ylabel('# of Customers')\n",
    "ax.set_xlabel('Tenure')\n",
    "ax.set_title('Basic service')\n",
    "\n",
    "ax = sns.distplot(telco_cust[telco_cust['custcat']=='E-service']['tenure'],\n",
    "                   hist=True, kde=False,\n",
    "                   bins=int(180/5), color = 'red',\n",
    "                   hist_kws={'edgecolor':'black'},\n",
    "                   kde_kws={'linewidth': 4},\n",
    "                 ax=ax2)\n",
    "ax.set_xlabel('Tenure')\n",
    "ax.set_title('E-service')\n",
    "\n",
    "ax = sns.distplot(telco_cust[telco_cust['custcat']=='Total service']['tenure'],\n",
    "                   hist=True, kde=False,\n",
    "                   bins=int(180/5), color = 'steelblue',\n",
    "                   hist_kws={'edgecolor':'black'},\n",
    "                   kde_kws={'linewidth': 4},\n",
    "                 ax=ax3)\n",
    "ax.set_xlabel('Tenure',size = 14)\n",
    "ax.set_title('Total service',size = 14)\n",
    "\n",
    "ax = sns.distplot(telco_cust[telco_cust['custcat']=='Plus service']['tenure'],\n",
    "                   hist=True, kde=False,\n",
    "                   bins=int(180/5), color = 'darkblue',\n",
    "                   hist_kws={'edgecolor':'black'},\n",
    "                   kde_kws={'linewidth': 4},\n",
    "                 ax=ax4)\n",
    "\n",
    "ax.set_xlabel('Tenure')\n",
    "ax.set_title('Plus service')"
   ]
  },
  {
   "cell_type": "markdown",
   "id": "40644596",
   "metadata": {},
   "source": [
    "Most of the basic service contracts last for a few months, while the contracts with extras tend to last much longer than that. This shows that the customers paying more for a service are more loyal to the company and tend to stay with it for a longer period of time"
   ]
  },
  {
   "cell_type": "markdown",
   "id": "6952c976",
   "metadata": {},
   "source": [
    "Analyzing our dependent feature - churn"
   ]
  },
  {
   "cell_type": "code",
   "execution_count": null,
   "id": "2d5164f4",
   "metadata": {},
   "outputs": [],
   "source": [
    "#The dataset is labeled as 'Yes' and 'No' for the Churn column\n",
    "\n",
    "all = telco_cust.shape[0]\n",
    "churn = telco_cust[telco_cust['churn'] == 'Yes']\n",
    "no_churn = telco_cust[telco_cust['churn'] == 'No']\n",
    "\n",
    "x = len(churn)/all\n",
    "y = len(no_churn)/all\n",
    "\n",
    "print('churn :',x*100,'%')\n",
    "print('no churn :',y*100,'%')"
   ]
  },
  {
   "cell_type": "code",
   "execution_count": null,
   "id": "6f348533",
   "metadata": {},
   "outputs": [],
   "source": [
    "# Let's plot the Churn class against the Frequency\n",
    "labels = ['No churn','Churn']\n",
    "classes = pd.value_counts(telco_cust['churn'], sort = True)\n",
    "classes.plot(kind = 'bar', rot=0)\n",
    "plt.title(\"Churn class distribution\")\n",
    "plt.xticks(range(2), labels)\n",
    "plt.xlabel(\"Churn\")\n",
    "plt.ylabel(\"Frequency\")"
   ]
  },
  {
   "cell_type": "markdown",
   "id": "28176bd1",
   "metadata": {},
   "source": [
    "Churn vs Tenure: As we saw, the customers who do not churn, they tend to stay for a longer tenure with the telecom company"
   ]
  },
  {
   "cell_type": "code",
   "execution_count": null,
   "id": "47a9986c",
   "metadata": {},
   "outputs": [],
   "source": [
    "sns.boxplot(x = telco_cust.churn, y = telco_cust.tenure)"
   ]
  },
  {
   "cell_type": "markdown",
   "id": "83006bf9",
   "metadata": {},
   "source": [
    "Churn by Service Type"
   ]
  },
  {
   "cell_type": "code",
   "execution_count": null,
   "id": "bf6d9962",
   "metadata": {},
   "outputs": [],
   "source": [
    "colors = ['#4D3425','#E4512B']\n",
    "contract_churn = telco_cust.groupby(['custcat','churn']).size().unstack()\n",
    "\n",
    "ax = (contract_churn.T*100.0 / contract_churn.T.sum()).T.plot(kind='bar',\n",
    "                                                                width = 0.3,\n",
    "                                                                stacked = True,\n",
    "                                                                rot = 0, \n",
    "                                                                figsize = (10,6),\n",
    "                                                                color = colors)\n",
    "ax.yaxis.set_major_formatter(mtick.PercentFormatter())\n",
    "ax.legend(loc='best',prop={'size':14},title = 'Churn')\n",
    "ax.set_ylabel('% Customers',size = 14)\n",
    "ax.set_title('Churn by Service Type',size = 14)\n",
    "\n",
    "# Code to add the data labels on the stacked bar chart\n",
    "for p in ax.patches:\n",
    "    width, height = p.get_width(), p.get_height()\n",
    "    x, y = p.get_xy() \n",
    "    ax.annotate('{:.0f}%'.format(height), (p.get_x()+.25*width, p.get_y()+.4*height),\n",
    "                color = 'white',\n",
    "               weight = 'bold',\n",
    "               size = 14)"
   ]
  },
  {
   "cell_type": "markdown",
   "id": "3cee8dcc",
   "metadata": {},
   "source": [
    "Churn by Retirement"
   ]
  },
  {
   "cell_type": "code",
   "execution_count": null,
   "id": "a908dbb2",
   "metadata": {},
   "outputs": [],
   "source": [
    "colors = ['#4D3425','#E4512B']\n",
    "seniority_churn = telco_cust.groupby(['retire','churn']).size().unstack()\n",
    "\n",
    "ax = (seniority_churn.T*100.0 / seniority_churn.T.sum()).T.plot(kind='bar',\n",
    "                                                                width = 0.2,\n",
    "                                                                stacked = True,\n",
    "                                                                rot = 0, \n",
    "                                                                figsize = (8,6),\n",
    "                                                                color = colors)\n",
    "ax.yaxis.set_major_formatter(mtick.PercentFormatter())\n",
    "ax.legend(loc='center',prop={'size':14},title = 'Churn')\n",
    "ax.set_ylabel('% Customers')\n",
    "ax.set_title('Churn by Seniority Level',size = 14)\n",
    "\n",
    "# Code to add the data labels on the stacked bar chart\n",
    "for p in ax.patches:\n",
    "    width, height = p.get_width(), p.get_height()\n",
    "    x, y = p.get_xy() \n",
    "    ax.annotate('{:.0f}%'.format(height), (p.get_x()+.25*width, p.get_y()+.4*height),\n",
    "                color = 'white',\n",
    "               weight = 'bold',size =14)"
   ]
  },
  {
   "cell_type": "markdown",
   "id": "f9317c20",
   "metadata": {},
   "source": [
    "Based on this figure, non-retired citizens are more likely to churn"
   ]
  },
  {
   "cell_type": "markdown",
   "id": "feaa8026",
   "metadata": {},
   "source": [
    "Churn by Monthly Charges"
   ]
  },
  {
   "cell_type": "code",
   "execution_count": null,
   "id": "ccde2308",
   "metadata": {},
   "outputs": [],
   "source": [
    "ax = sns.kdeplot(telco_cust.longmon[(telco_cust[\"churn\"] == 'No')],\n",
    "                color=\"Red\", shade = True)\n",
    "ax = sns.kdeplot(telco_cust.longmon[(telco_cust[\"churn\"] == 'Yes')],\n",
    "                ax =ax, color=\"Blue\", shade= True)\n",
    "ax.legend([\"Not Churn\",\"Churn\"],loc='upper right')\n",
    "ax.set_ylabel('Density')\n",
    "ax.set_xlabel('Monthly Charges')\n",
    "ax.set_title('Distribution of monthly charges by churn')"
   ]
  },
  {
   "cell_type": "markdown",
   "id": "0dee5feb",
   "metadata": {},
   "source": [
    "Churn by Total Charges"
   ]
  },
  {
   "cell_type": "code",
   "execution_count": null,
   "id": "da463f8e",
   "metadata": {},
   "outputs": [],
   "source": [
    "ax = sns.kdeplot(telco_cust.loglong[(telco_cust[\"churn\"] == 'No') ],\n",
    "                color=\"Red\", shade = True)\n",
    "ax = sns.kdeplot(telco_cust.loglong[(telco_cust[\"churn\"] == 'Yes') ],\n",
    "                ax =ax, color=\"Blue\", shade= True)\n",
    "ax.legend([\"Not Churn\",\"Churn\"],loc='upper right')\n",
    "ax.set_ylabel('Density')\n",
    "ax.set_xlabel('Total Bill')\n",
    "ax.set_title('Distribution of total charges by churn')"
   ]
  },
  {
   "cell_type": "markdown",
   "id": "b0a59157",
   "metadata": {},
   "source": [
    "Data preprocessing"
   ]
  },
  {
   "cell_type": "markdown",
   "id": "cdf14a8e",
   "metadata": {},
   "source": [
    "Standardize the data"
   ]
  },
  {
   "cell_type": "code",
   "execution_count": 5,
   "id": "791690b6",
   "metadata": {},
   "outputs": [],
   "source": [
    "#Converting the predictor variable in a binary numeric variable\n",
    "\n",
    "telco_cust['churn'].replace(to_replace='Yes', value=1, inplace=True)\n",
    "telco_cust['churn'].replace(to_replace='No',  value=0, inplace=True)"
   ]
  },
  {
   "cell_type": "code",
   "execution_count": 6,
   "id": "6e08ef81",
   "metadata": {},
   "outputs": [
    {
     "data": {
      "text/html": [
       "<div>\n",
       "<style scoped>\n",
       "    .dataframe tbody tr th:only-of-type {\n",
       "        vertical-align: middle;\n",
       "    }\n",
       "\n",
       "    .dataframe tbody tr th {\n",
       "        vertical-align: top;\n",
       "    }\n",
       "\n",
       "    .dataframe thead th {\n",
       "        text-align: right;\n",
       "    }\n",
       "</style>\n",
       "<table border=\"1\" class=\"dataframe\">\n",
       "  <thead>\n",
       "    <tr style=\"text-align: right;\">\n",
       "      <th></th>\n",
       "      <th>tenure</th>\n",
       "      <th>age</th>\n",
       "      <th>address</th>\n",
       "      <th>income</th>\n",
       "      <th>employ</th>\n",
       "      <th>reside</th>\n",
       "      <th>longmon</th>\n",
       "      <th>tollmon</th>\n",
       "      <th>equipmon</th>\n",
       "      <th>cardmon</th>\n",
       "      <th>...</th>\n",
       "      <th>forward_No</th>\n",
       "      <th>forward_Yes</th>\n",
       "      <th>confer_No</th>\n",
       "      <th>confer_Yes</th>\n",
       "      <th>ebill_No</th>\n",
       "      <th>ebill_Yes</th>\n",
       "      <th>custcat_Basic service</th>\n",
       "      <th>custcat_E-service</th>\n",
       "      <th>custcat_Plus service</th>\n",
       "      <th>custcat_Total service</th>\n",
       "    </tr>\n",
       "  </thead>\n",
       "  <tbody>\n",
       "    <tr>\n",
       "      <th>0</th>\n",
       "      <td>13</td>\n",
       "      <td>44</td>\n",
       "      <td>9</td>\n",
       "      <td>64</td>\n",
       "      <td>5</td>\n",
       "      <td>2</td>\n",
       "      <td>3.70</td>\n",
       "      <td>0.00</td>\n",
       "      <td>0.0</td>\n",
       "      <td>7.50</td>\n",
       "      <td>...</td>\n",
       "      <td>0</td>\n",
       "      <td>1</td>\n",
       "      <td>1</td>\n",
       "      <td>0</td>\n",
       "      <td>1</td>\n",
       "      <td>0</td>\n",
       "      <td>1</td>\n",
       "      <td>0</td>\n",
       "      <td>0</td>\n",
       "      <td>0</td>\n",
       "    </tr>\n",
       "    <tr>\n",
       "      <th>1</th>\n",
       "      <td>11</td>\n",
       "      <td>33</td>\n",
       "      <td>7</td>\n",
       "      <td>136</td>\n",
       "      <td>5</td>\n",
       "      <td>6</td>\n",
       "      <td>4.40</td>\n",
       "      <td>20.75</td>\n",
       "      <td>0.0</td>\n",
       "      <td>15.25</td>\n",
       "      <td>...</td>\n",
       "      <td>0</td>\n",
       "      <td>1</td>\n",
       "      <td>0</td>\n",
       "      <td>1</td>\n",
       "      <td>1</td>\n",
       "      <td>0</td>\n",
       "      <td>0</td>\n",
       "      <td>0</td>\n",
       "      <td>0</td>\n",
       "      <td>1</td>\n",
       "    </tr>\n",
       "    <tr>\n",
       "      <th>2</th>\n",
       "      <td>68</td>\n",
       "      <td>52</td>\n",
       "      <td>24</td>\n",
       "      <td>116</td>\n",
       "      <td>29</td>\n",
       "      <td>2</td>\n",
       "      <td>18.15</td>\n",
       "      <td>18.00</td>\n",
       "      <td>0.0</td>\n",
       "      <td>30.25</td>\n",
       "      <td>...</td>\n",
       "      <td>1</td>\n",
       "      <td>0</td>\n",
       "      <td>0</td>\n",
       "      <td>1</td>\n",
       "      <td>1</td>\n",
       "      <td>0</td>\n",
       "      <td>0</td>\n",
       "      <td>0</td>\n",
       "      <td>1</td>\n",
       "      <td>0</td>\n",
       "    </tr>\n",
       "    <tr>\n",
       "      <th>3</th>\n",
       "      <td>33</td>\n",
       "      <td>33</td>\n",
       "      <td>12</td>\n",
       "      <td>33</td>\n",
       "      <td>0</td>\n",
       "      <td>1</td>\n",
       "      <td>9.45</td>\n",
       "      <td>0.00</td>\n",
       "      <td>0.0</td>\n",
       "      <td>0.00</td>\n",
       "      <td>...</td>\n",
       "      <td>1</td>\n",
       "      <td>0</td>\n",
       "      <td>1</td>\n",
       "      <td>0</td>\n",
       "      <td>1</td>\n",
       "      <td>0</td>\n",
       "      <td>1</td>\n",
       "      <td>0</td>\n",
       "      <td>0</td>\n",
       "      <td>0</td>\n",
       "    </tr>\n",
       "    <tr>\n",
       "      <th>4</th>\n",
       "      <td>23</td>\n",
       "      <td>30</td>\n",
       "      <td>9</td>\n",
       "      <td>30</td>\n",
       "      <td>2</td>\n",
       "      <td>4</td>\n",
       "      <td>6.30</td>\n",
       "      <td>0.00</td>\n",
       "      <td>0.0</td>\n",
       "      <td>0.00</td>\n",
       "      <td>...</td>\n",
       "      <td>0</td>\n",
       "      <td>1</td>\n",
       "      <td>0</td>\n",
       "      <td>1</td>\n",
       "      <td>1</td>\n",
       "      <td>0</td>\n",
       "      <td>0</td>\n",
       "      <td>0</td>\n",
       "      <td>1</td>\n",
       "      <td>0</td>\n",
       "    </tr>\n",
       "  </tbody>\n",
       "</table>\n",
       "<p>5 rows × 63 columns</p>\n",
       "</div>"
      ],
      "text/plain": [
       "   tenure  age  address  income  employ  reside  longmon  tollmon  equipmon  \\\n",
       "0      13   44        9      64       5       2     3.70     0.00       0.0   \n",
       "1      11   33        7     136       5       6     4.40    20.75       0.0   \n",
       "2      68   52       24     116      29       2    18.15    18.00       0.0   \n",
       "3      33   33       12      33       0       1     9.45     0.00       0.0   \n",
       "4      23   30        9      30       2       4     6.30     0.00       0.0   \n",
       "\n",
       "   cardmon  ...  forward_No  forward_Yes  confer_No  confer_Yes  ebill_No  \\\n",
       "0     7.50  ...           0            1          1           0         1   \n",
       "1    15.25  ...           0            1          0           1         1   \n",
       "2    30.25  ...           1            0          0           1         1   \n",
       "3     0.00  ...           1            0          1           0         1   \n",
       "4     0.00  ...           0            1          0           1         1   \n",
       "\n",
       "   ebill_Yes  custcat_Basic service  custcat_E-service  custcat_Plus service  \\\n",
       "0          0                      1                  0                     0   \n",
       "1          0                      0                  0                     0   \n",
       "2          0                      0                  0                     1   \n",
       "3          0                      1                  0                     0   \n",
       "4          0                      0                  0                     1   \n",
       "\n",
       "   custcat_Total service  \n",
       "0                      0  \n",
       "1                      1  \n",
       "2                      0  \n",
       "3                      0  \n",
       "4                      0  \n",
       "\n",
       "[5 rows x 63 columns]"
      ]
     },
     "execution_count": 6,
     "metadata": {},
     "output_type": "execute_result"
    }
   ],
   "source": [
    "#Let's convert all the categorical variables into dummy variables\n",
    "\n",
    "df_dummies = pd.get_dummies(telco_cust)\n",
    "df_dummies.head()"
   ]
  },
  {
   "cell_type": "code",
   "execution_count": null,
   "id": "1d4668c5",
   "metadata": {},
   "outputs": [],
   "source": [
    "# heat map of correlation of features\n",
    "correlation_matrix = df_dummies.corr()\n",
    "fig = plt.figure(figsize=(12,9))\n",
    "sns.heatmap(correlation_matrix,vmax=0.8,square = True)\n",
    "plt.show()"
   ]
  },
  {
   "cell_type": "code",
   "execution_count": null,
   "id": "cd7d7a99",
   "metadata": {},
   "outputs": [],
   "source": [
    "#Get Correlation of \"Churn\" with other variables:\n",
    "\n",
    "plt.figure(figsize=(15,8))\n",
    "df_dummies.corr()['churn'].sort_values(ascending = False).plot(kind='bar')"
   ]
  },
  {
   "cell_type": "markdown",
   "id": "84fc336c",
   "metadata": {},
   "source": [
    "- positive correlation: equip_Yes, internet_Yes, ebill_Yes, equipmon, callcard_No\n",
    "- negative correlation: cardten, address, callcard_Yes, age, ebill_No, internet_No, longmon, employ, longten, equip_No, loglong, tenure"
   ]
  },
  {
   "cell_type": "code",
   "execution_count": null,
   "id": "0f8eb427",
   "metadata": {},
   "outputs": [],
   "source": [
    "dep_var = [\"churn\"]\n",
    "indep_var = [\"equip_Yes\", \"internet_Yes\", \"ebill_Yes\", \"equipmon\", \"callcard_No\", \"cardten\", \"callcard_Yes\", \"age\", \"ebill_No\", \"internet_No\", \"longmon\", \"employ\", \"longten\", \"equip_No\", \"loglong\", \"tenure\"]"
   ]
  },
  {
   "cell_type": "code",
   "execution_count": 7,
   "id": "61b534e6",
   "metadata": {},
   "outputs": [
    {
     "data": {
      "text/html": [
       "<div>\n",
       "<style scoped>\n",
       "    .dataframe tbody tr th:only-of-type {\n",
       "        vertical-align: middle;\n",
       "    }\n",
       "\n",
       "    .dataframe tbody tr th {\n",
       "        vertical-align: top;\n",
       "    }\n",
       "\n",
       "    .dataframe thead th {\n",
       "        text-align: right;\n",
       "    }\n",
       "</style>\n",
       "<table border=\"1\" class=\"dataframe\">\n",
       "  <thead>\n",
       "    <tr style=\"text-align: right;\">\n",
       "      <th></th>\n",
       "      <th>churn</th>\n",
       "      <th>equip_Yes</th>\n",
       "      <th>internet_Yes</th>\n",
       "      <th>ebill_Yes</th>\n",
       "      <th>equipmon</th>\n",
       "      <th>callcard_No</th>\n",
       "      <th>cardten</th>\n",
       "      <th>callcard_Yes</th>\n",
       "      <th>age</th>\n",
       "      <th>ebill_No</th>\n",
       "      <th>internet_No</th>\n",
       "      <th>longmon</th>\n",
       "      <th>employ</th>\n",
       "      <th>longten</th>\n",
       "      <th>equip_No</th>\n",
       "      <th>loglong</th>\n",
       "      <th>tenure</th>\n",
       "    </tr>\n",
       "  </thead>\n",
       "  <tbody>\n",
       "    <tr>\n",
       "      <th>0</th>\n",
       "      <td>1</td>\n",
       "      <td>0</td>\n",
       "      <td>0</td>\n",
       "      <td>0</td>\n",
       "      <td>0.0</td>\n",
       "      <td>0</td>\n",
       "      <td>110.0</td>\n",
       "      <td>1</td>\n",
       "      <td>44</td>\n",
       "      <td>1</td>\n",
       "      <td>1</td>\n",
       "      <td>3.70</td>\n",
       "      <td>5</td>\n",
       "      <td>37.45</td>\n",
       "      <td>1</td>\n",
       "      <td>1.308333</td>\n",
       "      <td>13</td>\n",
       "    </tr>\n",
       "    <tr>\n",
       "      <th>1</th>\n",
       "      <td>1</td>\n",
       "      <td>0</td>\n",
       "      <td>0</td>\n",
       "      <td>0</td>\n",
       "      <td>0.0</td>\n",
       "      <td>0</td>\n",
       "      <td>125.0</td>\n",
       "      <td>1</td>\n",
       "      <td>33</td>\n",
       "      <td>1</td>\n",
       "      <td>1</td>\n",
       "      <td>4.40</td>\n",
       "      <td>5</td>\n",
       "      <td>42.00</td>\n",
       "      <td>1</td>\n",
       "      <td>1.481605</td>\n",
       "      <td>11</td>\n",
       "    </tr>\n",
       "    <tr>\n",
       "      <th>2</th>\n",
       "      <td>0</td>\n",
       "      <td>0</td>\n",
       "      <td>0</td>\n",
       "      <td>0</td>\n",
       "      <td>0.0</td>\n",
       "      <td>0</td>\n",
       "      <td>2150.0</td>\n",
       "      <td>1</td>\n",
       "      <td>52</td>\n",
       "      <td>1</td>\n",
       "      <td>1</td>\n",
       "      <td>18.15</td>\n",
       "      <td>29</td>\n",
       "      <td>1300.60</td>\n",
       "      <td>1</td>\n",
       "      <td>2.898671</td>\n",
       "      <td>68</td>\n",
       "    </tr>\n",
       "    <tr>\n",
       "      <th>3</th>\n",
       "      <td>1</td>\n",
       "      <td>0</td>\n",
       "      <td>0</td>\n",
       "      <td>0</td>\n",
       "      <td>0.0</td>\n",
       "      <td>1</td>\n",
       "      <td>0.0</td>\n",
       "      <td>0</td>\n",
       "      <td>33</td>\n",
       "      <td>1</td>\n",
       "      <td>1</td>\n",
       "      <td>9.45</td>\n",
       "      <td>0</td>\n",
       "      <td>288.80</td>\n",
       "      <td>1</td>\n",
       "      <td>2.246015</td>\n",
       "      <td>33</td>\n",
       "    </tr>\n",
       "    <tr>\n",
       "      <th>4</th>\n",
       "      <td>0</td>\n",
       "      <td>0</td>\n",
       "      <td>0</td>\n",
       "      <td>0</td>\n",
       "      <td>0.0</td>\n",
       "      <td>1</td>\n",
       "      <td>0.0</td>\n",
       "      <td>0</td>\n",
       "      <td>30</td>\n",
       "      <td>1</td>\n",
       "      <td>1</td>\n",
       "      <td>6.30</td>\n",
       "      <td>2</td>\n",
       "      <td>157.05</td>\n",
       "      <td>1</td>\n",
       "      <td>1.840550</td>\n",
       "      <td>23</td>\n",
       "    </tr>\n",
       "  </tbody>\n",
       "</table>\n",
       "</div>"
      ],
      "text/plain": [
       "   churn  equip_Yes  internet_Yes  ebill_Yes  equipmon  callcard_No  cardten  \\\n",
       "0      1          0             0          0       0.0            0    110.0   \n",
       "1      1          0             0          0       0.0            0    125.0   \n",
       "2      0          0             0          0       0.0            0   2150.0   \n",
       "3      1          0             0          0       0.0            1      0.0   \n",
       "4      0          0             0          0       0.0            1      0.0   \n",
       "\n",
       "   callcard_Yes  age  ebill_No  internet_No  longmon  employ  longten  \\\n",
       "0             1   44         1            1     3.70       5    37.45   \n",
       "1             1   33         1            1     4.40       5    42.00   \n",
       "2             1   52         1            1    18.15      29  1300.60   \n",
       "3             0   33         1            1     9.45       0   288.80   \n",
       "4             0   30         1            1     6.30       2   157.05   \n",
       "\n",
       "   equip_No   loglong  tenure  \n",
       "0         1  1.308333      13  \n",
       "1         1  1.481605      11  \n",
       "2         1  2.898671      68  \n",
       "3         1  2.246015      33  \n",
       "4         1  1.840550      23  "
      ]
     },
     "execution_count": 7,
     "metadata": {},
     "output_type": "execute_result"
    }
   ],
   "source": [
    "# deciding to drop some columns?\n",
    "\n",
    "dep_var = [\"churn\"]\n",
    "indep_var = [\"equip_Yes\", \"internet_Yes\", \"ebill_Yes\", \"equipmon\", \"callcard_No\", \"cardten\", \"callcard_Yes\", \"age\", \"ebill_No\", \"internet_No\", \"longmon\", \"employ\", \"longten\", \"equip_No\", \"loglong\", \"tenure\"]\n",
    "\n",
    "df_dummies_selected = df_dummies[dep_var+indep_var]\n",
    "df_dummies_selected.head()\n"
   ]
  },
  {
   "cell_type": "markdown",
   "id": "662386fd",
   "metadata": {},
   "source": [
    "Import machine learning libraries"
   ]
  },
  {
   "cell_type": "code",
   "execution_count": 8,
   "id": "1f13f3f0",
   "metadata": {},
   "outputs": [],
   "source": [
    "from sklearn.model_selection import train_test_split\n",
    "from sklearn.linear_model import LogisticRegression\n",
    "from sklearn.ensemble import RandomForestClassifier\n",
    "from sklearn.svm import SVC\n",
    "from sklearn.metrics import confusion_matrix, accuracy_score, precision_score, recall_score\n",
    "from sklearn.naive_bayes import GaussianNB\n",
    "from sklearn.preprocessing import StandardScaler"
   ]
  },
  {
   "cell_type": "code",
   "execution_count": 9,
   "id": "cb900c7e",
   "metadata": {},
   "outputs": [],
   "source": [
    "def data_prep(df):\n",
    "    y = df['churn'].values\n",
    "    X = df.drop(columns = ['churn'])\n",
    "\n",
    "    features = X.columns.values\n",
    "    scaler = StandardScaler()\n",
    "    scaler.fit(X)\n",
    "    X = pd.DataFrame(scaler.transform(X))\n",
    "    X.columns = features\n",
    "    X_train, X_test, y_train, y_test = train_test_split(X, y, test_size=0.2, random_state=105)\n",
    "    return X_train, X_test, y_train, y_test"
   ]
  },
  {
   "cell_type": "markdown",
   "id": "cd00d50b",
   "metadata": {},
   "source": [
    "Logistic Regression"
   ]
  },
  {
   "cell_type": "code",
   "execution_count": 10,
   "id": "c6328951",
   "metadata": {},
   "outputs": [
    {
     "name": "stdout",
     "output_type": "stream",
     "text": [
      "Accuracy score on all columns: 0.805\n",
      "Accuracy score on selected dataset: 0.805\n"
     ]
    }
   ],
   "source": [
    "# on all column\n",
    "\n",
    "X_train, X_test, y_train, y_test = data_prep(df_dummies)\n",
    "\n",
    "model_regression = LogisticRegression()\n",
    "result = model_regression.fit(X_train, y_train)\n",
    "\n",
    "prediction_train = model_regression.predict(X_train)\n",
    "prediction_test = model_regression.predict(X_test)\n",
    "\n",
    "print(\"Accuracy score on all columns:\", accuracy_score(y_test, prediction_test))\n",
    "\n",
    "# on selected dataset\n",
    "\n",
    "X_train, X_test, y_train, y_test = data_prep(df_dummies_selected)\n",
    "\n",
    "model = LogisticRegression()\n",
    "model_regression.fit(X_train, y_train)\n",
    "\n",
    "prediction_train = model_regression.predict(X_train)\n",
    "prediction_test = model_regression.predict(X_test)\n",
    "\n",
    "print(\"Accuracy score on selected dataset:\", accuracy_score(y_test, prediction_test))"
   ]
  },
  {
   "cell_type": "code",
   "execution_count": 27,
   "id": "2ea24ac7",
   "metadata": {},
   "outputs": [
    {
     "name": "stdout",
     "output_type": "stream",
     "text": [
      "Confusion matrix on selected dataset:\n",
      " [[93 58]\n",
      " [ 6 43]]\n",
      "Precision on selected dataset:\n",
      " 0.42574257425742573\n",
      "Recall on selected dataset:\n",
      " 0.8775510204081632\n"
     ]
    }
   ],
   "source": [
    "# Other evaulation scores \n",
    "\n",
    "# confusion matrix: a summarized table used to assess the performance of a classification model. The number of correct and incorrect predictions are summarized with count values and broken down by each class\n",
    "\n",
    "print('Confusion matrix on selected dataset:\\n', confusion_matrix(y_test, prediction_test))\n",
    "\n",
    "# precision: attempts to answer “What proportion of positive identifications was actually correct?”\n",
    "\n",
    "print('Precision on selected dataset:\\n', precision_score(y_test, prediction_test))\n",
    "\n",
    "# recall: attempts to answer “What proportion of actual positives was identified correctly?”\n",
    "\n",
    "print('Recall on selected dataset:\\n', recall_score(y_test, prediction_test))"
   ]
  },
  {
   "cell_type": "markdown",
   "id": "c7880844",
   "metadata": {},
   "source": [
    "Random Forest"
   ]
  },
  {
   "cell_type": "code",
   "execution_count": 17,
   "id": "b5cce498",
   "metadata": {},
   "outputs": [
    {
     "name": "stdout",
     "output_type": "stream",
     "text": [
      "Accuracy score on all columns: 0.805\n",
      "Accuracy score on selected dataset: 0.815\n"
     ]
    }
   ],
   "source": [
    "# on all column\n",
    "\n",
    "X_train, X_test, y_train, y_test = data_prep(df_dummies)\n",
    "\n",
    "model_rf = RandomForestClassifier(n_estimators=1000 , oob_score = True, n_jobs = -1,\n",
    "                                  random_state =50, max_features = \"auto\",\n",
    "                                  max_leaf_nodes = 30)\n",
    "model_rf.fit(X_train, y_train)\n",
    "\n",
    "prediction_test = model_rf.predict(X_test)\n",
    "print(\"Accuracy score on all columns:\", accuracy_score(y_test, prediction_test))\n",
    "\n",
    "# on selected dataset\n",
    "\n",
    "X_train, X_test, y_train, y_test = data_prep(df_dummies_selected)\n",
    "\n",
    "model_rf = RandomForestClassifier(n_estimators=1000 , oob_score = True, n_jobs = -1,\n",
    "                                  random_state =50, max_features = \"auto\",\n",
    "                                  max_leaf_nodes = 30)\n",
    "model_rf.fit(X_train, y_train)\n",
    "\n",
    "prediction_test = model_rf.predict(X_test)\n",
    "print(\"Accuracy score on selected dataset:\", accuracy_score(y_test, prediction_test))"
   ]
  },
  {
   "cell_type": "code",
   "execution_count": 18,
   "id": "744eb3b3",
   "metadata": {},
   "outputs": [
    {
     "name": "stdout",
     "output_type": "stream",
     "text": [
      "Confusion matrix on selected dataset:\n",
      " [[137  14]\n",
      " [ 23  26]]\n",
      "Precision on selected dataset:\n",
      " 0.65\n",
      "Recall on selected dataset:\n",
      " 0.5306122448979592\n"
     ]
    }
   ],
   "source": [
    "# confusion matrix\n",
    "\n",
    "print('Confusion matrix on selected dataset:\\n', confusion_matrix(y_test, prediction_test))\n",
    "\n",
    "# precision\n",
    "\n",
    "print('Precision on selected dataset:\\n', precision_score(y_test, prediction_test))\n",
    "\n",
    "# recall\n",
    "\n",
    "print('Recall on selected dataset:\\n', recall_score(y_test, prediction_test))"
   ]
  },
  {
   "cell_type": "markdown",
   "id": "8dc5fea2",
   "metadata": {},
   "source": [
    "Support Vecor Machine (SVM)"
   ]
  },
  {
   "cell_type": "code",
   "execution_count": 20,
   "id": "8d3713ea",
   "metadata": {},
   "outputs": [
    {
     "name": "stdout",
     "output_type": "stream",
     "text": [
      "Accuracy score on all columns: 0.79\n",
      "Accuracy score on selected dataset: 0.81\n"
     ]
    }
   ],
   "source": [
    "# on all column\n",
    "\n",
    "X_train, X_test, y_train, y_test = data_prep(df_dummies)\n",
    "\n",
    "model_svm = SVC(kernel='linear') \n",
    "model_svm.fit(X_train,y_train)\n",
    "prediction_test = model_svm.predict(X_test)\n",
    "\n",
    "print(\"Accuracy score on all columns:\", accuracy_score(y_test, prediction_test))\n",
    "\n",
    "# on selected dataset\n",
    "\n",
    "X_train, X_test, y_train, y_test = data_prep(df_dummies_selected)\n",
    "\n",
    "model_svm = SVC(kernel='linear') \n",
    "model_svm.fit(X_train,y_train)\n",
    "prediction_test = model_svm.predict(X_test)\n",
    "print(\"Accuracy score on selected dataset:\", accuracy_score(y_test, prediction_test))"
   ]
  },
  {
   "cell_type": "code",
   "execution_count": 21,
   "id": "7e3c6641",
   "metadata": {},
   "outputs": [
    {
     "name": "stdout",
     "output_type": "stream",
     "text": [
      "Confusion matrix on selected dataset:\n",
      " [[137  14]\n",
      " [ 24  25]]\n",
      "Precision on selected dataset:\n",
      " 0.6410256410256411\n",
      "Recall on selected dataset:\n",
      " 0.5102040816326531\n"
     ]
    }
   ],
   "source": [
    "# confusion matrix\n",
    "\n",
    "print('Confusion matrix on selected dataset:\\n', confusion_matrix(y_test, prediction_test))\n",
    "\n",
    "# precision\n",
    "\n",
    "print('Precision on selected dataset:\\n', precision_score(y_test, prediction_test))\n",
    "\n",
    "# recall\n",
    "\n",
    "print('Recall on selected dataset:\\n', recall_score(y_test, prediction_test))"
   ]
  },
  {
   "cell_type": "markdown",
   "id": "5030ba80",
   "metadata": {},
   "source": [
    "Gaussian Naive Bayes"
   ]
  },
  {
   "cell_type": "code",
   "execution_count": 23,
   "id": "9ed8cf34",
   "metadata": {},
   "outputs": [
    {
     "name": "stdout",
     "output_type": "stream",
     "text": [
      "Accuracy score on all columns: 0.64\n",
      "Accuracy score on selected dataset: 0.68\n"
     ]
    }
   ],
   "source": [
    "# on all column\n",
    "\n",
    "X_train, X_test, y_train, y_test = data_prep(df_dummies)\n",
    "\n",
    "model_gnb = GaussianNB()\n",
    "model_gnb.fit(X_train, y_train)\n",
    "prediction_test = model_gnb.predict(X_test)\n",
    "\n",
    "print(\"Accuracy score on all columns:\", accuracy_score(y_test, prediction_test))\n",
    "\n",
    "# on selected dataset\n",
    "\n",
    "X_train, X_test, y_train, y_test = data_prep(df_dummies_selected)\n",
    "\n",
    "model_gnb = GaussianNB()\n",
    "model_gnb.fit(X_train, y_train)\n",
    "prediction_test = model_gnb.predict(X_test)\n",
    "\n",
    "print(\"Accuracy score on selected dataset:\", accuracy_score(y_test, prediction_test))"
   ]
  },
  {
   "cell_type": "markdown",
   "id": "5b06e344",
   "metadata": {},
   "source": [
    "Hyperparameter Tuning to improve Accuracy\n",
    "- Var_smoothing (Variance smoothing) parameter specifies the portion of the largest variance of all features to be added to variances for stability of calculation.\n",
    "\n",
    "- Gaussian Naive Bayes assumes that features follows normal distribution which is most unlikely in real world.So solve this problem we can perform \"power transformation\" on each feature to make it more or less normally distributed. By default, PowerTransformer results in features that have a 0 mean and 1 standard deviation."
   ]
  },
  {
   "cell_type": "code",
   "execution_count": 25,
   "id": "313e3e16",
   "metadata": {},
   "outputs": [
    {
     "name": "stdout",
     "output_type": "stream",
     "text": [
      "Fitting 15 folds for each of 100 candidates, totalling 1500 fits\n",
      "accuracy_score on test dataset :  0.785\n"
     ]
    }
   ],
   "source": [
    "from sklearn.model_selection import GridSearchCV\n",
    "from sklearn.model_selection import RepeatedStratifiedKFold\n",
    "from sklearn.preprocessing import PowerTransformer\n",
    "\n",
    "X_train, X_test, y_train, y_test = data_prep(df_dummies_selected)\n",
    "\n",
    "model_gnb_tuned = GaussianNB()\n",
    "np.logspace(0,-9, num=10)\n",
    "\n",
    "cv_method = RepeatedStratifiedKFold(n_splits=5, \n",
    "                                    n_repeats=3, \n",
    "                                    random_state=999)\n",
    "\n",
    "params_NB = {'var_smoothing': np.logspace(0,-9, num=100)}\n",
    "\n",
    "gs_NB = GridSearchCV(estimator=model_gnb_tuned, \n",
    "                     param_grid=params_NB, \n",
    "                     cv=cv_method,\n",
    "                     verbose=1, \n",
    "                     scoring='accuracy')\n",
    "\n",
    "Data_transformed = PowerTransformer().fit_transform(X_test)\n",
    "\n",
    "gs_NB.fit(Data_transformed, y_test)\n",
    "\n",
    "results_NB = pd.DataFrame(gs_NB.cv_results_['params'])\n",
    "results_NB['test_score'] = gs_NB.cv_results_['mean_test_score']\n",
    "\n",
    "predict_test = gs_NB.predict(Data_transformed)\n",
    "accuracy_test = accuracy_score(y_test,predict_test)\n",
    "print('accuracy_score on test dataset : ', accuracy_test)"
   ]
  },
  {
   "cell_type": "code",
   "execution_count": 26,
   "id": "b57bae16",
   "metadata": {},
   "outputs": [
    {
     "name": "stdout",
     "output_type": "stream",
     "text": [
      "Confusion matrix on selected dataset:\n",
      " [[93 58]\n",
      " [ 6 43]]\n",
      "Precision on selected dataset:\n",
      " 0.42574257425742573\n",
      "Recall on selected dataset:\n",
      " 0.8775510204081632\n"
     ]
    }
   ],
   "source": [
    "# confusion matrix\n",
    "\n",
    "print('Confusion matrix on selected dataset:\\n', confusion_matrix(y_test, prediction_test))\n",
    "\n",
    "# precision\n",
    "\n",
    "print('Precision on selected dataset:\\n', precision_score(y_test, prediction_test))\n",
    "\n",
    "# recall\n",
    "\n",
    "print('Recall on selected dataset:\\n', recall_score(y_test, prediction_test))"
   ]
  },
  {
   "cell_type": "code",
   "execution_count": null,
   "id": "a99d3d2d",
   "metadata": {},
   "outputs": [],
   "source": [
    "#saving the 4 models for FastAPI\n",
    "\n",
    "import pickle"
   ]
  },
  {
   "cell_type": "code",
   "execution_count": null,
   "id": "81a875b0",
   "metadata": {},
   "outputs": [],
   "source": [
    "filename = 'churn_model_regression.sav'\n",
    "pickle.dump(model_regression, open(filename, 'wb'))\n",
    "\n",
    "filename = 'churn_model_rf.sav'\n",
    "pickle.dump(model_rf, open(filename, 'wb'))\n",
    "\n",
    "filename = 'churn_model_svm.sav'\n",
    "pickle.dump(model_svm, open(filename, 'wb'))\n",
    "\n",
    "filename = 'churn_model_gnb_tuned.sav'\n",
    "pickle.dump(model_gnb_tuned, open(filename, 'wb'))"
   ]
  }
 ],
 "metadata": {
  "kernelspec": {
   "display_name": "Python 3 (ipykernel)",
   "language": "python",
   "name": "python3"
  },
  "language_info": {
   "codemirror_mode": {
    "name": "ipython",
    "version": 3
   },
   "file_extension": ".py",
   "mimetype": "text/x-python",
   "name": "python",
   "nbconvert_exporter": "python",
   "pygments_lexer": "ipython3",
   "version": "3.9.13"
  }
 },
 "nbformat": 4,
 "nbformat_minor": 5
}
